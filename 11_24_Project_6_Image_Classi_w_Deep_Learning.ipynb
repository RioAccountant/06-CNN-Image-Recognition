{
  "cells": [
    {
      "cell_type": "markdown",
      "metadata": {
        "id": "view-in-github",
        "colab_type": "text"
      },
      "source": [
        "<a href=\"https://colab.research.google.com/github/RioAccountant/06-CNN-Image-Recognition/blob/main/11_24_Project_6_Image_Classi_w_Deep_Learning.ipynb\" target=\"_parent\"><img src=\"https://colab.research.google.com/assets/colab-badge.svg\" alt=\"Open In Colab\"/></a>"
      ]
    },
    {
      "cell_type": "markdown",
      "metadata": {
        "id": "9QpaA5HAyv_O"
      },
      "source": [
        "# Project 6: Image Classification with Deep Learning\n",
        "\n"
      ]
    },
    {
      "cell_type": "markdown",
      "metadata": {
        "id": "aO3HLTWdzq3V"
      },
      "source": [
        "This project introduces us to deep learning. The deep learning process is a huge leap forward in data science and the field is less than 15 years old. The processing is significantly different from our previous projects so you will basically be provided a walkthrough document delineating the steps - much like Project 1. Deep learning is fascinating and I just want you to go through the process so you can appreciate its power.\n",
        "\n"
      ]
    },
    {
      "cell_type": "markdown",
      "metadata": {
        "id": "4TMP83_Hzl9L"
      },
      "source": [
        "The data collection portion of deep learning projects is a rather complex task. In other words, there is no CSV file that we can load to serve as our training data. Constructing a training data set is a rather large undertaking. We have imported all the training images (took hours) and I will show you how you can load the training data through the \"pickle\" process.\n",
        "\n"
      ]
    },
    {
      "cell_type": "markdown",
      "metadata": {
        "id": "ySPLD8gyzetb"
      },
      "source": [
        "There are three files in this data set:\n",
        "- [the feature set]( https://ddc-datascience.s3.amazonaws.com/Projects/Project.6-Images/Data/X.pickle ), i.e. images of dogs and cats ( mostly )\n",
        "- [the target set]( https://ddc-datascience.s3.amazonaws.com/Projects/Project.6-Images/Data/y.pickle ), i.e. the indicator if something is a dog or cat ( mostly )\n",
        "- [a test image]( https://ddc-datascience.s3.amazonaws.com/Projects/Project.6-Images/Data/dog.jpg )\n",
        "\n",
        "\n",
        "\n"
      ]
    },
    {
      "cell_type": "markdown",
      "metadata": {
        "id": "KGfC1Ukky06p"
      },
      "source": [
        "This project will classify new, unseen images of cats and dogs. This was one of the first big success stories of deep learning and we will go through the process of building a learning algorithm that will do this task. Telling a picture of a cat from a picture of a dog is easy for humans to do, but had been notoriously difficult to get a computer learning to perform well on the task. Deep learning solved that.\n"
      ]
    },
    {
      "cell_type": "markdown",
      "metadata": {
        "id": "c2pMIDWq1B4L"
      },
      "source": [
        "The same data set, but you can copy the links by viewing the markdown directly to bypass Google Colab's annoying \"You are leaving Colab\" link.\n",
        "\n",
        "\n",
        "\n",
        "\n",
        "https://ddc-datascience.s3.amazonaws.com/Projects/Project.6-Images/Data/X.pickle\n",
        "\n",
        "https://ddc-datascience.s3.amazonaws.com/Projects/Project.6-Images/Data/y.pickle\n",
        "\n",
        "https://ddc-datascience.s3.amazonaws.com/Projects/Project.6-Images/Data/dog.jpg\n"
      ]
    },
    {
      "cell_type": "markdown",
      "metadata": {
        "id": "pkgSUbVvIwgb"
      },
      "source": [
        "**ALERT!!! Be sure to enable the BPU runtime processing-1 GPU sessino at a time per day-see top right enable GPU and change runtime-must say GPU"
      ]
    },
    {
      "cell_type": "markdown",
      "metadata": {
        "id": "XE_wBtBFIC3N"
      },
      "source": [
        "##Problem Definition/Exercise Objective: build & train a model to recognize an image of a dog, cat, or other based on a training/testing set of photos that have been pickled."
      ]
    },
    {
      "cell_type": "markdown",
      "metadata": {
        "id": "4sj8a7pzpbqE"
      },
      "source": [
        "###Type of Model to be employed will be a Supervised Classification Model using Convolutional Neuro Network (CNN) to enable pattern, shape and edge detection within image file(s)."
      ]
    },
    {
      "cell_type": "code",
      "execution_count": null,
      "metadata": {
        "id": "3EsaM5yqROAZ"
      },
      "outputs": [],
      "source": []
    },
    {
      "cell_type": "markdown",
      "metadata": {
        "id": "Jz0KO6-WSIgY"
      },
      "source": [
        "##Relative to processing/data collection: x.pickle & y.pickle  have already been configured (serialized into a NP array); however we need to scale the MIN & MAX."
      ]
    },
    {
      "cell_type": "markdown",
      "metadata": {
        "id": "fARsxYsWSmwb"
      },
      "source": [
        "##For the EDA phase, make sure we run Tensor ranks and plot a few in advance using a random sample (n=100, 1000).\n",
        "\n",
        "##Then the regular train, test split process (possibly wrapping in a f(s))\n",
        "\n",
        "##Finally, we will introduce a new and unintroduced picture and test it."
      ]
    },
    {
      "cell_type": "markdown",
      "metadata": {
        "id": "LhTLUWiG_t10"
      },
      "source": [
        "##Load the requisite libraries and tools"
      ]
    },
    {
      "cell_type": "code",
      "execution_count": null,
      "metadata": {
        "id": "uYzZVgY8JwVU"
      },
      "outputs": [],
      "source": [
        "import numpy as np #for multi-dim array provided\n",
        "import pandas as pd #for data manipulation\n",
        "\n",
        "import random\n",
        "\n",
        "#Pickle is native to Python for saving/loading a trained model to Python using serialized data to be packed/unpacked\n",
        "import pickle\n",
        "\n",
        "#Keras, an artificial NN lib as agent to interface to TensorFlow\n",
        "from keras.models import Sequential\n",
        "from keras.layers import Dense, Flatten, Conv2D, MaxPooling2D\n",
        "from keras.utils import plot_model\n",
        "\n",
        "\n",
        "#Tensorflow-dataflow prog. lib to facilitate work w/NN's\n",
        "import tensorflow.keras as keras\n",
        "import tensorflow as tf\n",
        "import tensorflow.keras.layers as layers\n",
        "\n",
        "#To enable algorithms & other utilities (MIN/MAX scaling needed for project modeling)\n",
        "from sklearn import datasets\n",
        "from sklearn.model_selection import train_test_split\n",
        "#from sklearn.preprocessing import StandardScaler\n",
        "from sklearn.preprocessing import MinMaxScaler\n",
        "\n",
        "#For plotting 2D charts & plots\n",
        "import matplotlib.pyplot as plt"
      ]
    },
    {
      "cell_type": "code",
      "execution_count": null,
      "metadata": {
        "id": "QJc_40XsINfo"
      },
      "outputs": [],
      "source": [
        "url_X = 'https://ddc-datascience.s3.amazonaws.com/Projects/Project.6-Images/Data/X.pickle'\n",
        "\n",
        "url_y = 'https://ddc-datascience.s3.amazonaws.com/Projects/Project.6-Images/Data/y.pickle'\n",
        "\n",
        "url_1 = 'https://ddc-datascience.s3.amazonaws.com/Projects/Project.6-Images/Data/dog.jpg'"
      ]
    },
    {
      "cell_type": "code",
      "execution_count": null,
      "metadata": {
        "colab": {
          "base_uri": "https://localhost:8080/"
        },
        "id": "wIIYTnMtiDyk",
        "outputId": "6a7fe1f6-94b7-4fa7-b37e-bcc5bd2b162b"
      },
      "outputs": [
        {
          "name": "stdout",
          "output_type": "stream",
          "text": [
            "  % Total    % Received % Xferd  Average Speed   Time    Time     Time  Current\n",
            "                                 Dload  Upload   Total   Spent    Left  Speed\n",
            "100  237M  100  237M    0     0  48.5M      0  0:00:04  0:00:04 --:--:-- 53.5M\n"
          ]
        }
      ],
      "source": [
        "#Confirm connection to X\n",
        "!curl -O https://ddc-datascience.s3.amazonaws.com/Projects/Project.6-Images/Data/X.pickle"
      ]
    },
    {
      "cell_type": "code",
      "execution_count": null,
      "metadata": {
        "colab": {
          "base_uri": "https://localhost:8080/"
        },
        "id": "fVvl0PguzTc_",
        "outputId": "00d18f31-2c7d-43e6-eb6b-f04996146218"
      },
      "outputs": [
        {
          "name": "stdout",
          "output_type": "stream",
          "text": [
            "<class 'numpy.ndarray'>\n"
          ]
        },
        {
          "data": {
            "text/plain": [
              "(24946, 100, 100, 1)"
            ]
          },
          "execution_count": 4,
          "metadata": {},
          "output_type": "execute_result"
        }
      ],
      "source": [
        "#Check the data type/shape: 24K elements, 100pix hxw, & grayscale\n",
        "X_pickle = pd.read_pickle(url_X)\n",
        "print(type(X_pickle))\n",
        "X_pickle.shape\n"
      ]
    },
    {
      "cell_type": "code",
      "execution_count": null,
      "metadata": {
        "colab": {
          "base_uri": "https://localhost:8080/"
        },
        "id": "qfbTw_i4iNTT",
        "outputId": "31bc7329-106d-470d-de71-a3264f7eedef"
      },
      "outputs": [
        {
          "name": "stdout",
          "output_type": "stream",
          "text": [
            "  % Total    % Received % Xferd  Average Speed   Time    Time     Time  Current\n",
            "                                 Dload  Upload   Total   Spent    Left  Speed\n",
            "100 49948  100 49948    0     0   223k      0 --:--:-- --:--:-- --:--:--  223k\n"
          ]
        }
      ],
      "source": [
        "#Confirm connection to y\n",
        "!curl -O https://ddc-datascience.s3.amazonaws.com/Projects/Project.6-Images/Data/y.pickle"
      ]
    },
    {
      "cell_type": "code",
      "execution_count": null,
      "metadata": {
        "colab": {
          "base_uri": "https://localhost:8080/"
        },
        "id": "IJZ2zjO6zkvT",
        "outputId": "73b4244e-73a0-4cee-e4d5-c276631b6097"
      },
      "outputs": [
        {
          "name": "stdout",
          "output_type": "stream",
          "text": [
            "<class 'numpy.ndarray'>\n"
          ]
        },
        {
          "data": {
            "text/plain": [
              "(24946,)"
            ]
          },
          "execution_count": 6,
          "metadata": {},
          "output_type": "execute_result"
        }
      ],
      "source": [
        "#Confirm that y converts to array & check the shape\n",
        "y_pickle= np.array(pd.read_pickle(url_y))\n",
        "print(type(y_pickle))\n",
        "y_pickle.shape"
      ]
    },
    {
      "cell_type": "markdown",
      "metadata": {
        "id": "jFhw83NlIcmV"
      },
      "source": [
        "##Pickle the files to working directory"
      ]
    },
    {
      "cell_type": "code",
      "execution_count": null,
      "metadata": {
        "id": "LFzgQiu2IhvA"
      },
      "outputs": [],
      "source": [
        "with open('X_pickle', 'wb') as file:\n",
        "     pickle.dump(X_pickle, file)"
      ]
    },
    {
      "cell_type": "code",
      "execution_count": null,
      "metadata": {
        "id": "MkXTEF1PIkJb"
      },
      "outputs": [],
      "source": [
        "with open('y_pickle', 'wb') as file:\n",
        "    pickle.dump(y_pickle, file)"
      ]
    },
    {
      "cell_type": "code",
      "execution_count": null,
      "metadata": {
        "colab": {
          "base_uri": "https://localhost:8080/"
        },
        "id": "PINoIdXOJW_s",
        "outputId": "f525d908-7a3a-4836-a921-49081a895cb7"
      },
      "outputs": [
        {
          "name": "stdout",
          "output_type": "stream",
          "text": [
            "total 487496\n",
            "drwxr-xr-x 1 root root      4096 Nov 25 19:12 .\n",
            "drwxr-xr-x 1 root root      4096 Nov 25 19:11 ..\n",
            "drwxr-xr-x 4 root root      4096 Nov 22 14:22 .config\n",
            "drwxr-xr-x 1 root root      4096 Nov 22 14:23 sample_data\n",
            "-rw-r--r-- 1 root root 249460166 Nov 25 19:12 X.pickle\n",
            "-rw-r--r-- 1 root root 249460167 Nov 25 19:12 X_pickle\n",
            "-rw-r--r-- 1 root root     49948 Nov 25 19:12 y.pickle\n",
            "-rw-r--r-- 1 root root    199728 Nov 25 19:12 y_pickle\n"
          ]
        }
      ],
      "source": [
        "!ls -la\n",
        "#how to delete the extras that came in through curl???"
      ]
    },
    {
      "cell_type": "markdown",
      "metadata": {
        "id": "K8i4Ayc35sDk"
      },
      "source": [
        "##Read in the Pickled file(s): Load the data"
      ]
    },
    {
      "cell_type": "markdown",
      "metadata": {
        "id": "XTBZJp745sA8"
      },
      "source": []
    },
    {
      "cell_type": "code",
      "execution_count": null,
      "metadata": {
        "colab": {
          "base_uri": "https://localhost:8080/"
        },
        "collapsed": true,
        "id": "71KRTX0tLPrA",
        "outputId": "768eea80-934b-4130-8032-55493f93f426"
      },
      "outputs": [
        {
          "data": {
            "text/plain": [
              "array([[[[ 95],\n",
              "         [ 94],\n",
              "         [ 98],\n",
              "         ...,\n",
              "         [170],\n",
              "         [172],\n",
              "         [171]],\n",
              "\n",
              "        [[ 92],\n",
              "         [ 91],\n",
              "         [ 95],\n",
              "         ...,\n",
              "         [170],\n",
              "         [172],\n",
              "         [171]],\n",
              "\n",
              "        [[ 89],\n",
              "         [ 91],\n",
              "         [ 92],\n",
              "         ...,\n",
              "         [165],\n",
              "         [169],\n",
              "         [169]],\n",
              "\n",
              "        ...,\n",
              "\n",
              "        [[ 84],\n",
              "         [ 76],\n",
              "         [ 73],\n",
              "         ...,\n",
              "         [135],\n",
              "         [164],\n",
              "         [154]],\n",
              "\n",
              "        [[ 82],\n",
              "         [ 79],\n",
              "         [ 71],\n",
              "         ...,\n",
              "         [142],\n",
              "         [134],\n",
              "         [153]],\n",
              "\n",
              "        [[ 80],\n",
              "         [ 85],\n",
              "         [ 85],\n",
              "         ...,\n",
              "         [151],\n",
              "         [146],\n",
              "         [138]]],\n",
              "\n",
              "\n",
              "       [[[171],\n",
              "         [154],\n",
              "         [139],\n",
              "         ...,\n",
              "         [185],\n",
              "         [187],\n",
              "         [188]],\n",
              "\n",
              "        [[146],\n",
              "         [140],\n",
              "         [129],\n",
              "         ...,\n",
              "         [187],\n",
              "         [187],\n",
              "         [188]],\n",
              "\n",
              "        [[128],\n",
              "         [132],\n",
              "         [128],\n",
              "         ...,\n",
              "         [186],\n",
              "         [187],\n",
              "         [188]],\n",
              "\n",
              "        ...,\n",
              "\n",
              "        [[167],\n",
              "         [168],\n",
              "         [162],\n",
              "         ...,\n",
              "         [191],\n",
              "         [193],\n",
              "         [182]],\n",
              "\n",
              "        [[166],\n",
              "         [164],\n",
              "         [164],\n",
              "         ...,\n",
              "         [197],\n",
              "         [179],\n",
              "         [196]],\n",
              "\n",
              "        [[176],\n",
              "         [168],\n",
              "         [173],\n",
              "         ...,\n",
              "         [197],\n",
              "         [184],\n",
              "         [198]]],\n",
              "\n",
              "\n",
              "       [[[121],\n",
              "         [116],\n",
              "         [130],\n",
              "         ...,\n",
              "         [ 99],\n",
              "         [126],\n",
              "         [ 61]],\n",
              "\n",
              "        [[122],\n",
              "         [124],\n",
              "         [126],\n",
              "         ...,\n",
              "         [121],\n",
              "         [ 75],\n",
              "         [ 33]],\n",
              "\n",
              "        [[128],\n",
              "         [127],\n",
              "         [127],\n",
              "         ...,\n",
              "         [ 99],\n",
              "         [ 99],\n",
              "         [ 88]],\n",
              "\n",
              "        ...,\n",
              "\n",
              "        [[191],\n",
              "         [192],\n",
              "         [192],\n",
              "         ...,\n",
              "         [179],\n",
              "         [181],\n",
              "         [175]],\n",
              "\n",
              "        [[196],\n",
              "         [188],\n",
              "         [196],\n",
              "         ...,\n",
              "         [178],\n",
              "         [172],\n",
              "         [175]],\n",
              "\n",
              "        [[197],\n",
              "         [191],\n",
              "         [204],\n",
              "         ...,\n",
              "         [189],\n",
              "         [182],\n",
              "         [176]]],\n",
              "\n",
              "\n",
              "       ...,\n",
              "\n",
              "\n",
              "       [[[ 85],\n",
              "         [ 86],\n",
              "         [ 86],\n",
              "         ...,\n",
              "         [ 58],\n",
              "         [ 65],\n",
              "         [ 70]],\n",
              "\n",
              "        [[ 89],\n",
              "         [ 84],\n",
              "         [ 85],\n",
              "         ...,\n",
              "         [ 62],\n",
              "         [ 62],\n",
              "         [ 64]],\n",
              "\n",
              "        [[ 74],\n",
              "         [ 78],\n",
              "         [ 85],\n",
              "         ...,\n",
              "         [ 62],\n",
              "         [ 66],\n",
              "         [ 64]],\n",
              "\n",
              "        ...,\n",
              "\n",
              "        [[129],\n",
              "         [142],\n",
              "         [137],\n",
              "         ...,\n",
              "         [252],\n",
              "         [252],\n",
              "         [252]],\n",
              "\n",
              "        [[136],\n",
              "         [132],\n",
              "         [129],\n",
              "         ...,\n",
              "         [252],\n",
              "         [252],\n",
              "         [252]],\n",
              "\n",
              "        [[121],\n",
              "         [123],\n",
              "         [124],\n",
              "         ...,\n",
              "         [253],\n",
              "         [252],\n",
              "         [252]]],\n",
              "\n",
              "\n",
              "       [[[207],\n",
              "         [203],\n",
              "         [202],\n",
              "         ...,\n",
              "         [180],\n",
              "         [129],\n",
              "         [134]],\n",
              "\n",
              "        [[205],\n",
              "         [207],\n",
              "         [207],\n",
              "         ...,\n",
              "         [193],\n",
              "         [156],\n",
              "         [140]],\n",
              "\n",
              "        [[206],\n",
              "         [210],\n",
              "         [204],\n",
              "         ...,\n",
              "         [207],\n",
              "         [183],\n",
              "         [142]],\n",
              "\n",
              "        ...,\n",
              "\n",
              "        [[ 86],\n",
              "         [ 79],\n",
              "         [ 77],\n",
              "         ...,\n",
              "         [ 89],\n",
              "         [ 88],\n",
              "         [ 87]],\n",
              "\n",
              "        [[ 76],\n",
              "         [ 78],\n",
              "         [ 87],\n",
              "         ...,\n",
              "         [ 92],\n",
              "         [ 91],\n",
              "         [ 86]],\n",
              "\n",
              "        [[ 90],\n",
              "         [ 72],\n",
              "         [ 83],\n",
              "         ...,\n",
              "         [ 92],\n",
              "         [ 89],\n",
              "         [ 90]]],\n",
              "\n",
              "\n",
              "       [[[138],\n",
              "         [143],\n",
              "         [137],\n",
              "         ...,\n",
              "         [ 26],\n",
              "         [ 25],\n",
              "         [ 21]],\n",
              "\n",
              "        [[152],\n",
              "         [143],\n",
              "         [129],\n",
              "         ...,\n",
              "         [ 26],\n",
              "         [ 26],\n",
              "         [ 22]],\n",
              "\n",
              "        [[141],\n",
              "         [153],\n",
              "         [151],\n",
              "         ...,\n",
              "         [ 30],\n",
              "         [ 23],\n",
              "         [ 24]],\n",
              "\n",
              "        ...,\n",
              "\n",
              "        [[135],\n",
              "         [151],\n",
              "         [131],\n",
              "         ...,\n",
              "         [ 96],\n",
              "         [ 88],\n",
              "         [104]],\n",
              "\n",
              "        [[135],\n",
              "         [104],\n",
              "         [108],\n",
              "         ...,\n",
              "         [ 98],\n",
              "         [ 91],\n",
              "         [ 92]],\n",
              "\n",
              "        [[117],\n",
              "         [145],\n",
              "         [124],\n",
              "         ...,\n",
              "         [100],\n",
              "         [ 89],\n",
              "         [ 94]]]], dtype=uint8)"
            ]
          },
          "execution_count": 10,
          "metadata": {},
          "output_type": "execute_result"
        }
      ],
      "source": [
        "with open('X_pickle', 'rb') as file:\n",
        "     data_read = pickle.load(file)\n",
        "data_read\n"
      ]
    },
    {
      "cell_type": "code",
      "execution_count": null,
      "metadata": {
        "colab": {
          "base_uri": "https://localhost:8080/"
        },
        "id": "3Q3gc2GUclC8",
        "outputId": "9bcf7817-34ee-4316-d34a-9224242af476"
      },
      "outputs": [
        {
          "data": {
            "text/plain": [
              "array([0, 1, 1, ..., 1, 0, 1])"
            ]
          },
          "execution_count": 11,
          "metadata": {},
          "output_type": "execute_result"
        }
      ],
      "source": [
        " with open('y_pickle', 'rb') as file:\n",
        "     data_read = pickle.load(file)\n",
        " data_read"
      ]
    },
    {
      "cell_type": "code",
      "execution_count": null,
      "metadata": {
        "colab": {
          "base_uri": "https://localhost:8080/",
          "height": 433
        },
        "id": "pqcv5F_ajhpF",
        "outputId": "45788ad1-82a3-4af7-f6c0-0926b62c4ed7"
      },
      "outputs": [
        {
          "data": {
            "image/png": "[encoded data removed]",
            "text/plain": [
              "<Figure size 640x480 with 1 Axes>"
            ]
          },
          "metadata": {},
          "output_type": "display_data"
        }
      ],
      "source": [
        "#Peek a boo! I cannot tell if color or NOT\n",
        "peek= random.randint(0, len(X_pickle))\n",
        "plt.imshow(X_pickle[peek, :])\n",
        "plt.show()"
      ]
    },
    {
      "cell_type": "markdown",
      "metadata": {
        "id": "rfTEeKMKDM1T"
      },
      "source": [
        "##Define the Model (CNN in Keras)-on a limited population"
      ]
    },
    {
      "cell_type": "code",
      "execution_count": null,
      "metadata": {
        "colab": {
          "base_uri": "https://localhost:8080/"
        },
        "id": "olh12Ynlf7nv",
        "outputId": "64957999-0ecf-47fc-a5fa-2228468038a1"
      },
      "outputs": [
        {
          "name": "stdout",
          "output_type": "stream",
          "text": [
            "(24946, 100, 100, 1)\n",
            "(24946,)\n"
          ]
        }
      ],
      "source": [
        "#Original file parameters: +24K images of 100x100 grayscale pics\n",
        "print(X_pickle.shape)\n",
        "print(y_pickle.shape)"
      ]
    },
    {
      "cell_type": "code",
      "execution_count": null,
      "metadata": {
        "id": "PhyV71CoC3cO"
      },
      "outputs": [],
      "source": [
        "# Split the data up in train and test sets-and use .10 for testing and .9 for training the model\n",
        "X_train, X_test, y_train, y_test = train_test_split(X_pickle, y_pickle, test_size=0.10, random_state=42)"
      ]
    },
    {
      "cell_type": "code",
      "execution_count": null,
      "metadata": {
        "colab": {
          "base_uri": "https://localhost:8080/"
        },
        "id": "D8DuB2LZNSoz",
        "outputId": "c854e59f-fc7a-4a9e-b035-fbe7126544f8"
      },
      "outputs": [
        {
          "name": "stdout",
          "output_type": "stream",
          "text": [
            "(22451, 100, 100, 1)\n",
            "(22451,)\n"
          ]
        }
      ],
      "source": [
        "#Confirm the allocation and note the 1 at the end-looks like grayscale.\n",
        "print(X_train.shape)\n",
        "print(y_train.shape)"
      ]
    },
    {
      "cell_type": "code",
      "execution_count": null,
      "metadata": {
        "id": "9r_mEfqwmTG8"
      },
      "outputs": [],
      "source": [
        "#Reset the RGB (red, green, blue) values to zero or 1, IF ANY-based on the last parameter 1 above it is greayscale, but I can't tell\n",
        "X_train = X_train/255\n",
        "X_test = X_test/255"
      ]
    },
    {
      "cell_type": "code",
      "execution_count": null,
      "metadata": {
        "colab": {
          "base_uri": "https://localhost:8080/",
          "height": 433
        },
        "id": "6BJ_ZtkBDdK1",
        "outputId": "dcefe68f-7ce4-4a4d-ce9e-27bd8dcac13f"
      },
      "outputs": [
        {
          "data": {
            "image/png": "[encoded data removed]",
            "text/plain": [
              "<Figure size 640x480 with 1 Axes>"
            ]
          },
          "metadata": {},
          "output_type": "display_data"
        }
      ],
      "source": [
        "#display a test image in grayscale\n",
        "plt.imshow(X_train[0],cmap=plt.cm.gray_r)\n",
        "plt.show()"
      ]
    },
    {
      "cell_type": "markdown",
      "metadata": {
        "id": "jsac5gDOmWeX"
      },
      "source": [
        "###Define the model, input, & Convolutinal Layers"
      ]
    },
    {
      "cell_type": "code",
      "execution_count": null,
      "metadata": {
        "colab": {
          "base_uri": "https://localhost:8080/"
        },
        "id": "sCh-DjgLQ9HS",
        "outputId": "5e8d0a9c-9600-4327-e061-808e329503f9"
      },
      "outputs": [
        {
          "name": "stderr",
          "output_type": "stream",
          "text": [
            "/usr/local/lib/python3.10/dist-packages/keras/src/layers/convolutional/base_conv.py:107: UserWarning: Do not pass an `input_shape`/`input_dim` argument to a layer. When using Sequential models, prefer using an `Input(shape)` object as the first layer in the model instead.\n",
            "  super().__init__(activity_regularizer=activity_regularizer, **kwargs)\n"
          ]
        }
      ],
      "source": [
        "#Define the model, input, and multiple layers incuding output.\n",
        "\n",
        "model = Sequential()\n",
        "\n",
        "# Define input & first hidden layers\n",
        "model.add(Conv2D(64, (3, 3), activation='relu', input_shape=(100, 100, 1), name = \"hidden1\" ))\n",
        "model.add(MaxPooling2D(pool_size=(2, 2)))\n",
        "\n",
        "#Add second hidden layer\n",
        "model.add(Conv2D(64, (3, 3), activation='relu', name = \"hidden2\"))\n",
        "model.add(MaxPooling2D(pool_size=(2, 2)))\n",
        "\n",
        "#Flatten data to 1D to be used in output layer\n",
        "model.add(Flatten())\n",
        "\n",
        "#Define output layer\n",
        "model.add(Dense(10, activation = 'softmax', name = \"output\"))"
      ]
    },
    {
      "cell_type": "markdown",
      "metadata": {
        "id": "rSJlYWhqDW18"
      },
      "source": [
        "##Compile the Model"
      ]
    },
    {
      "cell_type": "code",
      "execution_count": null,
      "metadata": {
        "id": "5KwTwkERYe_l"
      },
      "outputs": [],
      "source": [
        "model.compile(\n",
        "    optimizer = 'adam', loss = 'sparse_categorical_crossentropy', metrics = ['accuracy'],)"
      ]
    },
    {
      "cell_type": "markdown",
      "metadata": {
        "id": "pFXv59rtDdF7"
      },
      "source": [
        "##Fit the Model, summarized output, plot and convert dimensionality."
      ]
    },
    {
      "cell_type": "code",
      "execution_count": null,
      "metadata": {
        "colab": {
          "background_save": true,
          "base_uri": "https://localhost:8080/"
        },
        "id": "68Tky5sMYxrS",
        "outputId": "c63465ad-523d-445a-df40-4071600a7c22"
      },
      "outputs": [
        {
          "name": "stdout",
          "output_type": "stream",
          "text": [
            "Epoch 1/4\n",
            "\u001b[1m702/702\u001b[0m \u001b[32m━━━━━━━━━━━━━━━━━━━━\u001b[0m\u001b[37m\u001b[0m \u001b[1m548s\u001b[0m 778ms/step - accuracy: 0.6066 - loss: 0.6702\n",
            "Epoch 2/4\n",
            "\u001b[1m702/702\u001b[0m \u001b[32m━━━━━━━━━━━━━━━━━━━━\u001b[0m\u001b[37m\u001b[0m \u001b[1m575s\u001b[0m 798ms/step - accuracy: 0.7550 - loss: 0.5059\n",
            "Epoch 3/4\n",
            "\u001b[1m702/702\u001b[0m \u001b[32m━━━━━━━━━━━━━━━━━━━━\u001b[0m\u001b[37m\u001b[0m \u001b[1m546s\u001b[0m 775ms/step - accuracy: 0.7883 - loss: 0.4483\n",
            "Epoch 4/4\n",
            "\u001b[1m702/702\u001b[0m \u001b[32m━━━━━━━━━━━━━━━━━━━━\u001b[0m\u001b[37m\u001b[0m \u001b[1m558s\u001b[0m 769ms/step - accuracy: 0.8167 - loss: 0.4057\n"
          ]
        }
      ],
      "source": [
        "model.fit(X_train, y_train, epochs=4) ;"
      ]
    },
    {
      "cell_type": "code",
      "execution_count": null,
      "metadata": {
        "colab": {
          "background_save": true
        },
        "id": "zgzI-hBFlAY0",
        "outputId": "1ed846ca-39e3-4f5c-e724-67782c5e6be0"
      },
      "outputs": [
        {
          "data": {
            "text/html": [
              "<pre style=\"white-space:pre;overflow-x:auto;line-height:normal;font-family:Menlo,'DejaVu Sans Mono',consolas,'Courier New',monospace\"><span style=\"font-weight: bold\">Model: \"sequential\"</span>\n",
              "</pre>\n"
            ],
            "text/plain": [
              "\u001b[1mModel: \"sequential\"\u001b[0m\n"
            ]
          },
          "metadata": {},
          "output_type": "display_data"
        },
        {
          "data": {
            "text/html": [
              "<pre style=\"white-space:pre;overflow-x:auto;line-height:normal;font-family:Menlo,'DejaVu Sans Mono',consolas,'Courier New',monospace\">┏━━━━━━━━━━━━━━━━━━━━━━━━━━━━━━━━━━━━━━┳━━━━━━━━━━━━━━━━━━━━━━━━━━━━━┳━━━━━━━━━━━━━━━━━┓\n",
              "┃<span style=\"font-weight: bold\"> Layer (type)                         </span>┃<span style=\"font-weight: bold\"> Output Shape                </span>┃<span style=\"font-weight: bold\">         Param # </span>┃\n",
              "┡━━━━━━━━━━━━━━━━━━━━━━━━━━━━━━━━━━━━━━╇━━━━━━━━━━━━━━━━━━━━━━━━━━━━━╇━━━━━━━━━━━━━━━━━┩\n",
              "│ hidden1 (<span style=\"color: #0087ff; text-decoration-color: #0087ff\">Conv2D</span>)                     │ (<span style=\"color: #00d7ff; text-decoration-color: #00d7ff\">None</span>, <span style=\"color: #00af00; text-decoration-color: #00af00\">98</span>, <span style=\"color: #00af00; text-decoration-color: #00af00\">98</span>, <span style=\"color: #00af00; text-decoration-color: #00af00\">64</span>)          │             <span style=\"color: #00af00; text-decoration-color: #00af00\">640</span> │\n",
              "├──────────────────────────────────────┼─────────────────────────────┼─────────────────┤\n",
              "│ max_pooling2d (<span style=\"color: #0087ff; text-decoration-color: #0087ff\">MaxPooling2D</span>)         │ (<span style=\"color: #00d7ff; text-decoration-color: #00d7ff\">None</span>, <span style=\"color: #00af00; text-decoration-color: #00af00\">49</span>, <span style=\"color: #00af00; text-decoration-color: #00af00\">49</span>, <span style=\"color: #00af00; text-decoration-color: #00af00\">64</span>)          │               <span style=\"color: #00af00; text-decoration-color: #00af00\">0</span> │\n",
              "├──────────────────────────────────────┼─────────────────────────────┼─────────────────┤\n",
              "│ hidden2 (<span style=\"color: #0087ff; text-decoration-color: #0087ff\">Conv2D</span>)                     │ (<span style=\"color: #00d7ff; text-decoration-color: #00d7ff\">None</span>, <span style=\"color: #00af00; text-decoration-color: #00af00\">47</span>, <span style=\"color: #00af00; text-decoration-color: #00af00\">47</span>, <span style=\"color: #00af00; text-decoration-color: #00af00\">64</span>)          │          <span style=\"color: #00af00; text-decoration-color: #00af00\">36,928</span> │\n",
              "├──────────────────────────────────────┼─────────────────────────────┼─────────────────┤\n",
              "│ max_pooling2d_1 (<span style=\"color: #0087ff; text-decoration-color: #0087ff\">MaxPooling2D</span>)       │ (<span style=\"color: #00d7ff; text-decoration-color: #00d7ff\">None</span>, <span style=\"color: #00af00; text-decoration-color: #00af00\">23</span>, <span style=\"color: #00af00; text-decoration-color: #00af00\">23</span>, <span style=\"color: #00af00; text-decoration-color: #00af00\">64</span>)          │               <span style=\"color: #00af00; text-decoration-color: #00af00\">0</span> │\n",
              "├──────────────────────────────────────┼─────────────────────────────┼─────────────────┤\n",
              "│ flatten (<span style=\"color: #0087ff; text-decoration-color: #0087ff\">Flatten</span>)                    │ (<span style=\"color: #00d7ff; text-decoration-color: #00d7ff\">None</span>, <span style=\"color: #00af00; text-decoration-color: #00af00\">33856</span>)               │               <span style=\"color: #00af00; text-decoration-color: #00af00\">0</span> │\n",
              "├──────────────────────────────────────┼─────────────────────────────┼─────────────────┤\n",
              "│ output (<span style=\"color: #0087ff; text-decoration-color: #0087ff\">Dense</span>)                       │ (<span style=\"color: #00d7ff; text-decoration-color: #00d7ff\">None</span>, <span style=\"color: #00af00; text-decoration-color: #00af00\">10</span>)                  │         <span style=\"color: #00af00; text-decoration-color: #00af00\">338,570</span> │\n",
              "└──────────────────────────────────────┴─────────────────────────────┴─────────────────┘\n",
              "</pre>\n"
            ],
            "text/plain": [
              "┏━━━━━━━━━━━━━━━━━━━━━━━━━━━━━━━━━━━━━━┳━━━━━━━━━━━━━━━━━━━━━━━━━━━━━┳━━━━━━━━━━━━━━━━━┓\n",
              "┃\u001b[1m \u001b[0m\u001b[1mLayer (type)                        \u001b[0m\u001b[1m \u001b[0m┃\u001b[1m \u001b[0m\u001b[1mOutput Shape               \u001b[0m\u001b[1m \u001b[0m┃\u001b[1m \u001b[0m\u001b[1m        Param #\u001b[0m\u001b[1m \u001b[0m┃\n",
              "┡━━━━━━━━━━━━━━━━━━━━━━━━━━━━━━━━━━━━━━╇━━━━━━━━━━━━━━━━━━━━━━━━━━━━━╇━━━━━━━━━━━━━━━━━┩\n",
              "│ hidden1 (\u001b[38;5;33mConv2D\u001b[0m)                     │ (\u001b[38;5;45mNone\u001b[0m, \u001b[38;5;34m98\u001b[0m, \u001b[38;5;34m98\u001b[0m, \u001b[38;5;34m64\u001b[0m)          │             \u001b[38;5;34m640\u001b[0m │\n",
              "├──────────────────────────────────────┼─────────────────────────────┼─────────────────┤\n",
              "│ max_pooling2d (\u001b[38;5;33mMaxPooling2D\u001b[0m)         │ (\u001b[38;5;45mNone\u001b[0m, \u001b[38;5;34m49\u001b[0m, \u001b[38;5;34m49\u001b[0m, \u001b[38;5;34m64\u001b[0m)          │               \u001b[38;5;34m0\u001b[0m │\n",
              "├──────────────────────────────────────┼─────────────────────────────┼─────────────────┤\n",
              "│ hidden2 (\u001b[38;5;33mConv2D\u001b[0m)                     │ (\u001b[38;5;45mNone\u001b[0m, \u001b[38;5;34m47\u001b[0m, \u001b[38;5;34m47\u001b[0m, \u001b[38;5;34m64\u001b[0m)          │          \u001b[38;5;34m36,928\u001b[0m │\n",
              "├──────────────────────────────────────┼─────────────────────────────┼─────────────────┤\n",
              "│ max_pooling2d_1 (\u001b[38;5;33mMaxPooling2D\u001b[0m)       │ (\u001b[38;5;45mNone\u001b[0m, \u001b[38;5;34m23\u001b[0m, \u001b[38;5;34m23\u001b[0m, \u001b[38;5;34m64\u001b[0m)          │               \u001b[38;5;34m0\u001b[0m │\n",
              "├──────────────────────────────────────┼─────────────────────────────┼─────────────────┤\n",
              "│ flatten (\u001b[38;5;33mFlatten\u001b[0m)                    │ (\u001b[38;5;45mNone\u001b[0m, \u001b[38;5;34m33856\u001b[0m)               │               \u001b[38;5;34m0\u001b[0m │\n",
              "├──────────────────────────────────────┼─────────────────────────────┼─────────────────┤\n",
              "│ output (\u001b[38;5;33mDense\u001b[0m)                       │ (\u001b[38;5;45mNone\u001b[0m, \u001b[38;5;34m10\u001b[0m)                  │         \u001b[38;5;34m338,570\u001b[0m │\n",
              "└──────────────────────────────────────┴─────────────────────────────┴─────────────────┘\n"
            ]
          },
          "metadata": {},
          "output_type": "display_data"
        },
        {
          "data": {
            "text/html": [
              "<pre style=\"white-space:pre;overflow-x:auto;line-height:normal;font-family:Menlo,'DejaVu Sans Mono',consolas,'Courier New',monospace\"><span style=\"font-weight: bold\"> Total params: </span><span style=\"color: #00af00; text-decoration-color: #00af00\">1,128,416</span> (4.30 MB)\n",
              "</pre>\n"
            ],
            "text/plain": [
              "\u001b[1m Total params: \u001b[0m\u001b[38;5;34m1,128,416\u001b[0m (4.30 MB)\n"
            ]
          },
          "metadata": {},
          "output_type": "display_data"
        },
        {
          "data": {
            "text/html": [
              "<pre style=\"white-space:pre;overflow-x:auto;line-height:normal;font-family:Menlo,'DejaVu Sans Mono',consolas,'Courier New',monospace\"><span style=\"font-weight: bold\"> Trainable params: </span><span style=\"color: #00af00; text-decoration-color: #00af00\">376,138</span> (1.43 MB)\n",
              "</pre>\n"
            ],
            "text/plain": [
              "\u001b[1m Trainable params: \u001b[0m\u001b[38;5;34m376,138\u001b[0m (1.43 MB)\n"
            ]
          },
          "metadata": {},
          "output_type": "display_data"
        },
        {
          "data": {
            "text/html": [
              "<pre style=\"white-space:pre;overflow-x:auto;line-height:normal;font-family:Menlo,'DejaVu Sans Mono',consolas,'Courier New',monospace\"><span style=\"font-weight: bold\"> Non-trainable params: </span><span style=\"color: #00af00; text-decoration-color: #00af00\">0</span> (0.00 B)\n",
              "</pre>\n"
            ],
            "text/plain": [
              "\u001b[1m Non-trainable params: \u001b[0m\u001b[38;5;34m0\u001b[0m (0.00 B)\n"
            ]
          },
          "metadata": {},
          "output_type": "display_data"
        },
        {
          "data": {
            "text/html": [
              "<pre style=\"white-space:pre;overflow-x:auto;line-height:normal;font-family:Menlo,'DejaVu Sans Mono',consolas,'Courier New',monospace\"><span style=\"font-weight: bold\"> Optimizer params: </span><span style=\"color: #00af00; text-decoration-color: #00af00\">752,278</span> (2.87 MB)\n",
              "</pre>\n"
            ],
            "text/plain": [
              "\u001b[1m Optimizer params: \u001b[0m\u001b[38;5;34m752,278\u001b[0m (2.87 MB)\n"
            ]
          },
          "metadata": {},
          "output_type": "display_data"
        }
      ],
      "source": [
        "model.summary()"
      ]
    },
    {
      "cell_type": "code",
      "execution_count": null,
      "metadata": {
        "colab": {
          "background_save": true
        },
        "id": "s274gFLxlI_-",
        "outputId": "ef7feee9-8c54-4b5a-b2e6-3cd7107cf68a"
      },
      "outputs": [
        {
          "data": {
            "image/png": "[encoded data removed]",
            "text/plain": [
              "<IPython.core.display.Image object>"
            ]
          },
          "execution_count": 22,
          "metadata": {},
          "output_type": "execute_result"
        }
      ],
      "source": [
        "plot_model(model)"
      ]
    },
    {
      "cell_type": "code",
      "execution_count": null,
      "metadata": {
        "colab": {
          "background_save": true
        },
        "id": "oI54KCdrmLtA"
      },
      "outputs": [],
      "source": [
        "#Change the test set to 4D\n",
        "\n",
        "X_test2 = X_test.reshape( X_test.shape + (1,) )\n"
      ]
    },
    {
      "cell_type": "markdown",
      "metadata": {
        "id": "X8NddvOWDfyY"
      },
      "source": [
        "##Evaluate the Model"
      ]
    },
    {
      "cell_type": "code",
      "execution_count": null,
      "metadata": {
        "colab": {
          "background_save": true
        },
        "id": "EQSQqTkXlMU4",
        "outputId": "7e264ca2-18c1-45b0-f5c6-6bd0dc755ba8"
      },
      "outputs": [
        {
          "name": "stdout",
          "output_type": "stream",
          "text": [
            "\u001b[1m78/78\u001b[0m \u001b[32m━━━━━━━━━━━━━━━━━━━━\u001b[0m\u001b[37m\u001b[0m \u001b[1m18s\u001b[0m 223ms/step - accuracy: 0.7978 - loss: 0.4444\n",
            "0.4480591118335724\n",
            "0.7995991706848145\n"
          ]
        }
      ],
      "source": [
        "val_loss, val_acc = model.evaluate(X_test2, y_test)\n",
        "print(val_loss)\n",
        "print(val_acc)"
      ]
    },
    {
      "cell_type": "markdown",
      "metadata": {
        "id": "Z8VhUytODjJp"
      },
      "source": [
        "#Employ the Model-Use to predict"
      ]
    },
    {
      "cell_type": "markdown",
      "metadata": {
        "id": "QmL07rallS_c"
      },
      "source": []
    },
    {
      "cell_type": "code",
      "execution_count": null,
      "metadata": {
        "colab": {
          "background_save": true
        },
        "id": "8bj3I-WwlTmV",
        "outputId": "4851a129-91fa-4ab1-d969-afcf22f30a26"
      },
      "outputs": [
        {
          "name": "stdout",
          "output_type": "stream",
          "text": [
            "\u001b[1m78/78\u001b[0m \u001b[32m━━━━━━━━━━━━━━━━━━━━\u001b[0m\u001b[37m\u001b[0m \u001b[1m16s\u001b[0m 209ms/step\n",
            "[3.6704388e-01 6.3295615e-01 2.5687343e-13 2.6780038e-13 2.7151740e-13\n",
            " 2.5554859e-13 2.6342234e-13 2.7222316e-13 2.4194164e-13 2.5718227e-13]\n"
          ]
        }
      ],
      "source": [
        "predictions = model.predict(X_test2)\n",
        "print(predictions[2300])"
      ]
    },
    {
      "cell_type": "code",
      "execution_count": null,
      "metadata": {
        "colab": {
          "background_save": true
        },
        "id": "vmF8bxxPlcPN",
        "outputId": "32dcea84-91ee-4290-d9bb-dca307a49ed0"
      },
      "outputs": [
        {
          "data": {
            "text/plain": [
              "(2495, 10)"
            ]
          },
          "execution_count": 26,
          "metadata": {},
          "output_type": "execute_result"
        }
      ],
      "source": [
        "predictions.shape"
      ]
    },
    {
      "cell_type": "code",
      "execution_count": null,
      "metadata": {
        "colab": {
          "background_save": true
        },
        "id": "Q5AALvBslXb0",
        "outputId": "fa19672a-b0bc-44e8-cb1b-5e5949f48d69"
      },
      "outputs": [
        {
          "name": "stdout",
          "output_type": "stream",
          "text": [
            "0: 36.70\n",
            "1: 63.30\n",
            "2: 0.00\n",
            "3: 0.00\n",
            "4: 0.00\n",
            "5: 0.00\n",
            "6: 0.00\n",
            "7: 0.00\n",
            "8: 0.00\n",
            "9: 0.00\n",
            "1\n",
            "0\n"
          ]
        },
        {
          "data": {
            "image/png": "[encoded data removed]",
            "text/plain": [
              "<Figure size 640x480 with 1 Axes>"
            ]
          },
          "metadata": {},
          "output_type": "display_data"
        }
      ],
      "source": [
        "# pick any image from 0 to 2495-1\n",
        "i = 2300\n",
        "\n",
        "for k, x in enumerate(predictions[i]*100):\n",
        "  print(f\"{k}: {x:.2f}\")\n",
        "print(np.argmax(predictions[i]))\n",
        "print(y_test[i])\n",
        "plt.imshow(X_test[i], cmap=plt.cm.gray_r)\n",
        "plt.show()\n"
      ]
    },
    {
      "cell_type": "markdown",
      "metadata": {
        "id": "oKnwUoBFDSzu"
      },
      "source": []
    },
    {
      "cell_type": "code",
      "execution_count": null,
      "metadata": {
        "colab": {
          "background_save": true
        },
        "id": "0RX5SDxJZVsa",
        "outputId": "cead738b-2415-4526-bdc6-89059c866c12"
      },
      "outputs": [
        {
          "name": "stdout",
          "output_type": "stream",
          "text": [
            "      Species Prediction     Dog %     Cat %\n",
            "0                      0  0.756560  0.243440\n",
            "1                      1  0.257005  0.742995\n",
            "2                      1  0.033543  0.966457\n",
            "3                      1  0.039630  0.960370\n",
            "4                      0  0.546960  0.453041\n",
            "...                  ...       ...       ...\n",
            "2295                   1  0.466675  0.533325\n",
            "2296                   0  0.953385  0.046615\n",
            "2297                   0  0.975000  0.025000\n",
            "2298                   1  0.653248  0.346752\n",
            "2299                   1  0.260740  0.739260\n",
            "\n",
            "[2300 rows x 3 columns]\n"
          ]
        }
      ],
      "source": [
        "#shape to dictionary\n",
        "results = pd.DataFrame( {\n",
        "  \"Species Prediction\": y_test,\n",
        "  \"Dog %\": predictions[:,0],\n",
        "  \"Cat %\": predictions[:,1],\n",
        "} )\n",
        "print(results.head(i))"
      ]
    },
    {
      "cell_type": "markdown",
      "metadata": {
        "id": "YFwGZOkS2RXq"
      },
      "source": [
        "## Final image of dog located here: 'https://ddc-datascience.s3.amazonaws.com/Projects/Project.6-Images/Data/dog.jpg'"
      ]
    },
    {
      "cell_type": "code",
      "execution_count": null,
      "metadata": {
        "colab": {
          "background_save": true
        },
        "id": "u9kopPS12QAp",
        "outputId": "bc8cffd3-41f1-4dee-f7f6-3350bb5f358d"
      },
      "outputs": [
        {
          "name": "stdout",
          "output_type": "stream",
          "text": [
            "  % Total    % Received % Xferd  Average Speed   Time    Time     Time  Current\n",
            "                                 Dload  Upload   Total   Spent    Left  Speed\n",
            "100 60603  100 60603    0     0   237k      0 --:--:-- --:--:-- --:--:--  237k\n"
          ]
        }
      ],
      "source": [
        "!curl -O 'https://ddc-datascience.s3.amazonaws.com/Projects/Project.6-Images/Data/dog.jpg'"
      ]
    }
  ],
  "metadata": {
    "colab": {
      "toc_visible": true,
      "provenance": [],
      "include_colab_link": true
    },
    "kernelspec": {
      "display_name": "Python 3",
      "name": "python3"
    },
    "language_info": {
      "name": "python"
    }
  },
  "nbformat": 4,
  "nbformat_minor": 0
}